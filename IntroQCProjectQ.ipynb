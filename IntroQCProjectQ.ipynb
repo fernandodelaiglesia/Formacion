{
  "nbformat": 4,
  "nbformat_minor": 0,
  "metadata": {
    "colab": {
      "name": "IntroQCProjectQ",
      "provenance": [],
      "collapsed_sections": [
        "veakokNhP3rS",
        "yMe8oK2GQiyk",
        "K7RnouY3SO0a",
        "RC2k7AZPTeTD",
        "AW_KxU00XW7V",
        "ppkD4UonYwCq",
        "2-gnP0yJMuW2",
        "-DiBTpSlNFnT",
        "GDwpJ13ZQyIB",
        "rDppWb_gNcT9",
        "Li9sLsbE3SL6",
        "K82sWmFeNW_j",
        "oAocN6bjNCh0",
        "Al4qT6arNBAe"
      ]
    },
    "kernelspec": {
      "name": "python3",
      "display_name": "Python 3"
    }
  },
  "cells": [
    {
      "cell_type": "markdown",
      "metadata": {
        "id": "veakokNhP3rS"
      },
      "source": [
        "# Introducción a la programación de Computación Cuántica con ProjectQ\n",
        "\n",
        "## Índice\n",
        "\n",
        "\n",
        "\n",
        "1.   Descripción, referencias y documentación. Instalación\n",
        "2.   Primer ejemplo: Engines y backends, Sintaxis básica\n",
        "3.   Quantum registers y Gates (Puertas) (Gates comunes + Gates especiales (All, C) + Gates generadoras (BasicGate, MatrixGate) + Qubit Operator + Gates de funciones especiales (QPE, QAA))\n",
        "4.   Declaraciones Especiales (Control, Loop, Compute, Uncompute, Dagger)\n",
        "5.   El simulador: Extraer amplitudes y probabilidades, valores esperados\n",
        "\n"
      ]
    },
    {
      "cell_type": "markdown",
      "metadata": {
        "id": "yMe8oK2GQiyk"
      },
      "source": [
        "## Descripción, referencias y documentación. Instalación\n",
        "\n",
        "ProjectQ es un framework python open source para quantum computing creado inicialmente en el ETH de Zurich por Thomas Häner y Damian S. Steiger en el grupo del Prof. Dr. Matthias Troyer. Su intención es proveer las herramientas para facilitar el desarollo, implementación, pruebas, depuración y ejecución de algoritmos cuánticos usando tanto hardware clásico como dispositivos cuánticos.\n",
        "\n",
        "* Documentación: https://projectq.readthedocs.io/en/latest/\n",
        "* GitHub (incluye manuales e instrucciones para distintas cosas): https://github.com/ProjectQ-Framework/ProjectQ\n",
        "* Versión actual: 0.5.1 liberada el 5 de junio 20202 https://github.com/ProjectQ-Framework/ProjectQ/releases\n",
        "\n"
      ]
    },
    {
      "cell_type": "code",
      "metadata": {
        "id": "_baggKpoP2AK"
      },
      "source": [
        "!pip install projectq"
      ],
      "execution_count": null,
      "outputs": []
    },
    {
      "cell_type": "markdown",
      "metadata": {
        "id": "K7RnouY3SO0a"
      },
      "source": [
        "## Primer ejemplo: Engines y backends, Sintaxis básica\n",
        "\n",
        "### Backend por defecto: el simulador"
      ]
    },
    {
      "cell_type": "code",
      "metadata": {
        "id": "eZHDMKNfRkTT",
        "outputId": "2cc41533-5f67-4f30-b768-701b3d59c363",
        "colab": {
          "base_uri": "https://localhost:8080/",
          "height": 34
        }
      },
      "source": [
        "from projectq import MainEngine  # import the main compiler engine\n",
        "from projectq.ops import H, Measure  # import the operations we want to perform (Hadamard and measurement)\n",
        "\n",
        "eng1 = MainEngine()  # create a default compiler (the back-end is a simulator)\n",
        "qubit = eng1.allocate_qubit()  # allocate 1 qubit\n",
        "\n",
        "H | qubit  # apply a Hadamard gate\n",
        "Measure | qubit  # measure the qubit\n",
        "\n",
        "eng1.flush()  # flush all gates (and execute measurements)\n",
        "print(\"Measured {}\".format(int(qubit)))  # output measurement result\n",
        "\n",
        "del eng1"
      ],
      "execution_count": null,
      "outputs": [
        {
          "output_type": "stream",
          "text": [
            "Measured 0\n"
          ],
          "name": "stdout"
        }
      ]
    },
    {
      "cell_type": "markdown",
      "metadata": {
        "id": "RC2k7AZPTeTD"
      },
      "source": [
        "### Otros backends: IBM Quantum Experience, AQT Trapped Ion, CircuitDrawer, ResourceCounter"
      ]
    },
    {
      "cell_type": "code",
      "metadata": {
        "id": "8K_HEzOyU6-K"
      },
      "source": [
        "# ResourceCounter\n",
        "from projectq.backends import ResourceCounter\n",
        "from projectq.ops import QFT, CNOT, Swap\n",
        "from projectq.setups import linear # Solo lo nombro\n",
        "\n",
        "compiler_engines = linear.get_engine_list(num_qubits=16,\n",
        "                                          one_qubit_gates='any',\n",
        "                                          two_qubit_gates=(CNOT, Swap))\n",
        "\n",
        "resource_counter = ResourceCounter()\n",
        "engRC = MainEngine(backend=resource_counter, engine_list=compiler_engines)\n",
        "\n",
        "qureg = engRC.allocate_qureg(16)\n",
        "QFT | qureg\n",
        "engRC.flush()\n",
        "\n",
        "print(resource_counter)\n",
        "\n",
        "del engRC\n"
      ],
      "execution_count": null,
      "outputs": []
    },
    {
      "cell_type": "code",
      "metadata": {
        "id": "Pu5672kwZxb1"
      },
      "source": [
        "# CircuitDrawerMatplotlib\n",
        "from projectq.backends import CircuitDrawerMatplotlib # Existe CircuitDrawer que crea latex\n",
        "from projectq.cengines import DummyEngine\n",
        "from projectq.ops import (H, X, Rx, CNOT, Swap, Measure, Command, BasicGate)\n",
        "\n",
        "%matplotlib inline\n",
        "import matplotlib.pyplot as plt\n",
        "\n",
        "# Esto lo miramos luego\n",
        "class MyGate(BasicGate):\n",
        "    def __init__(self, *args):\n",
        "        BasicGate.__init__(self)\n",
        "        self.params = args\n",
        "\n",
        "    def __str__(self):\n",
        "        param_str = '{}'.format(self.params[0])\n",
        "        for param in self.params[1:]:\n",
        "            param_str += ',{}'.format(param)\n",
        "        return str(self.__class__.__name__) + \"(\" + param_str + \")\"\n",
        "\n",
        "backend = DummyEngine()\n",
        "\n",
        "drawer = CircuitDrawerMatplotlib()\n",
        "\n",
        "engCDM = MainEngine(backend, [drawer]) # Uso de Next Engine\n",
        "qureg = engCDM.allocate_qureg(3)\n",
        "H | qureg[1]\n",
        "H | qureg[0]\n",
        "X | qureg[0]\n",
        "Rx(1) | qureg[1]\n",
        "CNOT | (qureg[0], qureg[1])\n",
        "Swap | (qureg[0], qureg[1])\n",
        "MyGate(1.2) | qureg[2]\n",
        "MyGate(1.23456789) | qureg[2]\n",
        "MyGate(1.23456789, 2.3456789) | qureg[2]\n",
        "MyGate(1.23456789, 'aaaaaaaa', 'bbb', 2.34) | qureg[2]\n",
        "X | qureg[0]\n",
        "\n",
        "qubit_lines = drawer.draw()\n",
        "\n",
        "del engCDM\n"
      ],
      "execution_count": null,
      "outputs": []
    },
    {
      "cell_type": "code",
      "metadata": {
        "id": "NnrewfGicsW1"
      },
      "source": [
        "# IBM Quantum Experience (este no lo ejecuto, hace falta un TOKEN)\n",
        "import projectq.setups.ibm\n",
        "from projectq.backends import IBMBackend\n",
        "\n",
        "token='MY_TOKEN'\n",
        "device='ibmq_16_melbourne'\n",
        "compiler_engines = projectq.setups.ibm.get_engine_list(token=token,device=device)\n",
        "eng = MainEngine(IBMBackend(token=token, use_hardware=True, num_runs=1024,\n",
        "                            verbose=False, device=device),\n",
        "                            engine_list=compiler_engines)"
      ],
      "execution_count": null,
      "outputs": []
    },
    {
      "cell_type": "markdown",
      "metadata": {
        "id": "AW_KxU00XW7V"
      },
      "source": [
        "## Quantum registers y Gates (Puertas)"
      ]
    },
    {
      "cell_type": "markdown",
      "metadata": {
        "id": "kDTfVSm_YdZa"
      },
      "source": [
        "### Quantum registers"
      ]
    },
    {
      "cell_type": "code",
      "metadata": {
        "id": "REMyBimZYjvi"
      },
      "source": [
        "# Ya los hemos visto antes\n",
        "'''\n",
        "engCDM = MainEngine(backend, [drawer]) # Uso de Next Engine\n",
        "qureg = engCDM.allocate_qureg(3)\n",
        "H | qureg[1]\n",
        "H | qureg[0]\n",
        "X | qureg[0]\n",
        "Rx(1) | qureg[1]\n",
        "CNOT | (qureg[0], qureg[1])\n",
        "'''"
      ],
      "execution_count": null,
      "outputs": []
    },
    {
      "cell_type": "markdown",
      "metadata": {
        "id": "ppkD4UonYwCq"
      },
      "source": [
        "### Gates (puertas) comunes\n",
        "Pordeis encontrar todas las puertas en https://projectq.readthedocs.io/en/latest/projectq.ops.html#\n",
        "\n",
        "Entre ellas las operaciones más comunes y que habeis visto, y que hemos visto como se usan en celdas anteriores:\n",
        "Rotaciones, Paulis, Hadamard, en general Clifford, incluyendo la operación de Measure.\n",
        "Pero tambien non Clifford: T, S\n",
        "También 2qubit gates: CNOT, Swap, controled-rotations, y uan general control(gate).\n",
        "La nomenclatura general es\n",
        "\n",
        "    Gate | qubit\n",
        "    Gate | [qubit0, qubit1]\n",
        "    Gate | qureg\n",
        "    Gate | (qubit, )\n",
        "    Gate | (qureg, qubit)\n",
        "\n"
      ]
    },
    {
      "cell_type": "code",
      "metadata": {
        "id": "ThYS_wHnJjIw"
      },
      "source": [
        "# Ejemplos (ejercicio: hacer que estas puertas funcionen y Medir al final)\n",
        "'''\n",
        "H | qureg[1]\n",
        "H | qureg[0]\n",
        "X | qureg[0]\n",
        "Rx(1.23456789) | qureg[1] # El número es el angulo a rotar\n",
        "CNOT | (qureg[0], qureg[1])\n",
        "C(NOT) | (qureg[0], qureg[1])\n",
        "Toffoli = C(NOT,2) = C(CNOT) # el numero es la cantidad de controls, en general C(Gate,n), con n=1 por defecto\n",
        "Measure | qubit\n",
        "\n",
        "'''"
      ],
      "execution_count": null,
      "outputs": []
    },
    {
      "cell_type": "markdown",
      "metadata": {
        "id": "irpm4sYBLY3-"
      },
      "source": [
        "####Los ángulos\n",
        "Veamos como están definidas esas puertas para entender como hemos de tratar los"
      ]
    },
    {
      "cell_type": "code",
      "metadata": {
        "id": "HwBpqiQBLdzf"
      },
      "source": [
        "'''\n",
        "class Rz(BasicRotationGate):\n",
        "    \"\"\" RotationZ gate class \"\"\"\n",
        "    @property\n",
        "    def matrix(self):\n",
        "        return np.matrix([[cmath.exp(-.5 * 1j * self.angle), 0],\n",
        "                          [0, cmath.exp(.5 * 1j * self.angle)]])\n",
        "'''"
      ],
      "execution_count": null,
      "outputs": []
    },
    {
      "cell_type": "markdown",
      "metadata": {
        "id": "2-gnP0yJMuW2"
      },
      "source": [
        "###Puertas especiales (All, C)\n",
        "*  C (Control) ya la hemos visto, C(Gate), C(X), C(Z), C(H) (C(X) = CNOT) hay sinónimos de operaciones\n",
        "*  All(Gate) nos permite ejecutar la misma puerta sobre todos los registros de qubit que pongamos"
      ]
    },
    {
      "cell_type": "code",
      "metadata": {
        "id": "7wz1o4JNOLs0"
      },
      "source": [
        "# Haced alguna prueba\n",
        "from projectq.ops import C, All\n",
        "\n",
        "engGates = MainEngine()\n",
        "quregGates1 = engGates.allocate_qureg(2)\n",
        "quregGates2 = engGates.allocate_qureg(4)\n",
        "\n",
        "X | quregGates1[1]\n",
        "C(H) | [quregGates1[1], quregGates1[0]]\n",
        "#C(H) | (quregGates1[1], quregGates1[0])\n",
        "All(Measure) | quregGates1\n",
        "\n",
        "engGates.flush()\n",
        "print(\"Measured {}\".format([int(q) for q in quregGates1])) # Al estar medidos ya estan colapsados\n",
        "\n",
        "H | quregGates2[0]\n",
        "All(H) | quregGates2[1:]\n",
        "All(Measure) | quregGates2\n",
        "\n",
        "engGates.flush()\n",
        "print(\"Measured {}\".format([int(q) for q in quregGates2]))\n",
        "\n",
        "del engGates\n",
        "\n"
      ],
      "execution_count": null,
      "outputs": []
    },
    {
      "cell_type": "markdown",
      "metadata": {
        "id": "-DiBTpSlNFnT"
      },
      "source": [
        "###Puertas Generadoras (BasicGate, MatrixGate)\n",
        "Nos permiten generar heredando cualquier puerta (Unitaria) que nos imaginemos por ejemplo para combinar varias puertas en una función\n",
        "\n",
        "#### Basic Gates"
      ]
    },
    {
      "cell_type": "code",
      "metadata": {
        "id": "hl8AtFu6PoN5"
      },
      "source": [
        "# BasicGate (no recomendado!!!!!)\n",
        "# Hemos visto esta antes... pero no hace nada\n",
        "class MyGate(BasicGate):\n",
        "    def __init__(self, *args):\n",
        "        BasicGate.__init__(self)\n",
        "        self.params = args\n",
        "\n",
        "    def __str__(self):\n",
        "        param_str = '{}'.format(self.params[0])\n",
        "        for param in self.params[1:]:\n",
        "            param_str += ',{}'.format(param)\n",
        "        return str(self.__class__.__name__) + \"(\" + param_str + \")\""
      ],
      "execution_count": null,
      "outputs": []
    },
    {
      "cell_type": "code",
      "metadata": {
        "id": "llUPp6lbQMk-"
      },
      "source": [
        "# Ejemplo de como se usa para generar una de las puertas en ops (de nuevo, no recomendado!!!)\n",
        "class SqrtSwapGate(BasicGate):\n",
        "    \"\"\" Square-root Swap gate class \"\"\"\n",
        "    def __init__(self):\n",
        "        BasicGate.__init__(self)\n",
        "        self.interchangeable_qubit_indices = [[0, 1]]\n",
        "\n",
        "    def __str__(self):\n",
        "        return \"SqrtSwap\"\n",
        "\n",
        "    @property\n",
        "    def matrix(self):\n",
        "        return np.matrix([[1, 0, 0, 0],\n",
        "                          [0, 0.5+0.5j, 0.5-0.5j, 0],\n",
        "                          [0, 0.5-0.5j, 0.5+0.5j, 0],\n",
        "                          [0, 0, 0, 1]])"
      ],
      "execution_count": null,
      "outputs": []
    },
    {
      "cell_type": "markdown",
      "metadata": {
        "id": "GDwpJ13ZQyIB"
      },
      "source": [
        "Hay más Basic Gates: BasicRotatinGate, BasicPhaseGate... No es recomendado usar ninguna de ellas para generar nuestras puertas...\n",
        "\n",
        "#### MatrixGate\n",
        "Define una puerta (clase como hemos visto) mediante una matriz. "
      ]
    },
    {
      "cell_type": "code",
      "metadata": {
        "id": "2I1adfWMTOcB"
      },
      "source": [
        "from projectq.ops import MatrixGate\n",
        "unitary_op = MatrixGate([[0, 1, 0, 0],\n",
        "                         [1, 0, 0, 0],\n",
        "                         [0, 0, 0, 1],\n",
        "                         [0, 0, 1, 0]])\n",
        "\n",
        "dir(unitary_op) # La puerta definida hereda los métodos de MatrixGate"
      ],
      "execution_count": null,
      "outputs": []
    },
    {
      "cell_type": "code",
      "metadata": {
        "id": "4FGd5w10UmDu"
      },
      "source": [
        "engM = MainEngine()\n",
        "quregM1 = engM.allocate_qureg(2)\n",
        "\n",
        "H | quregM1[0]\n",
        "CNOT | (quregM1[0], quregM1[1]) # esto hace un Bell pair\n",
        "\n",
        "unitary_op | quregM1\n",
        "\n",
        "All(Measure) | quregM1\n",
        "\n",
        "engM.flush()\n",
        "print(\"Measured {}\".format([int(q) for q in quregM1]))\n",
        "\n",
        "quregM2 = engM.allocate_qureg(2)\n",
        "\n",
        "H | quregM2[0]\n",
        "CNOT | (quregM2[0], quregM2[1]) # esto hace un Bell pair\n",
        "\n",
        "unitary_op | quregM2\n",
        "unitary_op.get_inverse() | quregM2  # No hemos definido la inversa en ningun lado, nos lo da gratis\n",
        "\n",
        "All(Measure) | quregM2\n",
        "\n",
        "engM.flush()\n",
        "print(\"Measured {}\".format([int(q) for q in quregM2]))\n",
        "\n",
        "del engM\n",
        "\n"
      ],
      "execution_count": null,
      "outputs": []
    },
    {
      "cell_type": "markdown",
      "metadata": {
        "id": "rDppWb_gNcT9"
      },
      "source": [
        "###Qubit Operator\n",
        "Es una forma de construir Pauli operators que además nos sirve para crear Hamiltonianos y su evolución temporal. Veamoslo con los ejemplos de la documentación\n"
      ]
    },
    {
      "cell_type": "code",
      "metadata": {
        "id": "9B_An1TMwmoW"
      },
      "source": [
        "# QubitOperator\n",
        "\n",
        "from projectq.ops import QubitOperator\n",
        "\n",
        "engO = MainEngine()\n",
        "quregO1 = engO.allocate_qureg(6)\n",
        "QubitOperator('X0 X5', 1.j) | quregO1  # Applies X to qubit 0 and 5\n",
        "                                     # with an additional global phase\n",
        "                                     # of 1.j\n",
        "All(Measure) | quregO1\n",
        "\n",
        "engO.flush()\n",
        "print(\"Measured {}\".format([int(q) for q in quregO1]))\n",
        "\n",
        "# Tambien se puede definir\n",
        "\n",
        "ham = ((QubitOperator('X0 Y3', 0.5) + 0.6 * QubitOperator('X0 Y3')))\n",
        "\n",
        "# Equivalently\n",
        "ham2 = QubitOperator('X0 Y3', 0.5)\n",
        "ham2 += 0.6 * QubitOperator('X0 Y3')\n",
        "\n",
        "# Pero lo que no se puede hacer es\n",
        "\n",
        "quregO2 = engO.allocate_qureg(6)\n",
        "\n",
        "ham | quregO2\n",
        "\n",
        "All(Measure) | quregO2\n",
        "\n",
        "engO.flush()\n",
        "print(\"Measured {}\".format([int(q) for q in quregO2]))"
      ],
      "execution_count": null,
      "outputs": []
    },
    {
      "cell_type": "markdown",
      "metadata": {
        "id": "Li9sLsbE3SL6"
      },
      "source": [
        "###TimeEvolution\n",
        "\n",
        "Puerta para la evolución temporal bajo un Hamiltoniano (objeto del tipo QubitOperator)\n",
        "\n",
        "La puerta TimeEvolution es la evolución temporal unitaria del propagador exp(-i * H * t), donde H es el Hamiltoniano del sistema y t es el tiempo."
      ]
    },
    {
      "cell_type": "code",
      "metadata": {
        "id": "_xgLZMAt2_c_"
      },
      "source": [
        "# TimeEvolution\n",
        "\n",
        "from projectq.ops import TimeEvolution\n",
        "\n",
        "quregO3 = engO.allocate_qureg(5)\n",
        "X | quregO3[1]\n",
        "hamiltonian = 0.5 * QubitOperator(\"X0 Z1 Y4\")\n",
        "\n",
        "TimeEvolution(time=2.5, hamiltonian=hamiltonian) | quregO3 # Probar con distintos tiempos (0.5, 2.5)\n",
        "\n",
        "All(Measure) | quregO3\n",
        "\n",
        "engO.flush()\n",
        "print(\"Measured {}\".format([int(q) for q in quregO3]))\n"
      ],
      "execution_count": null,
      "outputs": []
    },
    {
      "cell_type": "code",
      "metadata": {
        "id": "mRx6Lwlw9M0d"
      },
      "source": [
        "del engO"
      ],
      "execution_count": null,
      "outputs": []
    },
    {
      "cell_type": "markdown",
      "metadata": {
        "id": "K82sWmFeNW_j"
      },
      "source": [
        "###Puertas de funciones especiales (QFT, QPE, QAA)\n",
        "Son realmente algoritmos (Quatum Fourier Transform, Quantum Phase Estimation, Quantum Amplitude Amplification). ProjectQ los trata como puertas que aplican a quantum registers. Para ver como se usan es necesario revisar la documentación. Veamos alguno."
      ]
    },
    {
      "cell_type": "code",
      "metadata": {
        "id": "7yoegCigbJbN"
      },
      "source": [
        "# QFT\n",
        "\n",
        "from projectq.ops import QFT\n",
        "\n",
        "engQ = MainEngine()\n",
        "quregQFT = engQ.allocate_qureg(5)\n",
        "\n",
        "All(H) | quregQFT\n",
        "\n",
        "QFT | quregQFT # Por supuesto existe la inversa\n",
        "\n",
        "All(Measure) | quregQFT\n",
        "\n",
        "engQ.flush()\n",
        "print(\"Measured {}\".format([int(q) for q in quregQFT]))\n"
      ],
      "execution_count": null,
      "outputs": []
    },
    {
      "cell_type": "code",
      "metadata": {
        "id": "ZwTWr38PT5HA"
      },
      "source": [
        "# QPE, sumper sencillo copiando el ejemplo en la documentación\n",
        "\n",
        "from projectq.ops import QPE, Ph\n",
        "import cmath\n",
        "\n",
        "n_qpe_ancillas = 3\n",
        "qpe_ancillas = engQ.allocate_qureg(n_qpe_ancillas)\n",
        "system_qubits = engQ.allocate_qureg(1)\n",
        "angle = cmath.pi*2.*0.125\n",
        "U = Ph(angle) # unitary_specfic_to_the_problem()\n",
        "\n",
        "# Apply Quantum Phase Estimation\n",
        "QPE(U) | (qpe_ancillas, system_qubits)\n",
        "\n",
        "All(Measure) | qpe_ancillas\n",
        "# Compute the phase from the ancilla measurement\n",
        "#(https://en.wikipedia.org/wiki/Quantum_phase_estimation_algorithm)\n",
        "phasebinlist = [int(q) for q in qpe_ancillas]\n",
        "phase_in_bin = ''.join(str(j) for j in phasebinlist)\n",
        "phase_int = int(phase_in_bin,2)\n",
        "phase = phase_int / (2 ** n_qpe_ancillas)\n",
        "print (phase)\n"
      ],
      "execution_count": null,
      "outputs": []
    },
    {
      "cell_type": "code",
      "metadata": {
        "id": "VzRRnZQddw7L"
      },
      "source": [
        "del engQ"
      ],
      "execution_count": null,
      "outputs": []
    },
    {
      "cell_type": "markdown",
      "metadata": {
        "id": "oAocN6bjNCh0"
      },
      "source": [
        "##Declaraciones Especiales (Control, Loop, Compute, Uncompute, Dagger)\n",
        "Declaraciones que nos ayudan a hacer un código nás eficiente"
      ]
    },
    {
      "cell_type": "code",
      "metadata": {
        "id": "ho6Wkm4odfIN"
      },
      "source": [
        "# Control\n",
        "from projectq.meta import Control, Loop, Compute, Uncompute, Dagger\n",
        "\n",
        "engD = MainEngine()\n",
        "\n",
        "quregC = engD.allocate_qureg(4)\n",
        "\n",
        "All(X) | quregC[0:1]\n",
        "\n",
        "with Control(engD, qureg[:1]):\n",
        "  X | quregC [2]\n",
        "  All(H) | qureg[2:3]\n",
        "\n",
        "All(Measure) | quregC\n",
        "engD.flush()\n",
        "del quregC # Deallocate de los qubits\n"
      ],
      "execution_count": null,
      "outputs": []
    },
    {
      "cell_type": "code",
      "metadata": {
        "id": "7ZTHo_GGg25q"
      },
      "source": [
        "# Loop\n",
        "\n",
        "with Loop(engD,3):\n",
        "  quregL = engD.allocate_qureg(2)\n",
        "  All(H) | quregL\n",
        "  All(Measure) | quregL\n",
        "  engD.flush()\n",
        "  #print(\"Measured {}\".format([int(q) for q in quregL]))\n",
        "  del quregL # Necesario hacer el deallocate de los qubits si se \"allocan\" en el loop \n",
        "  \n",
        "# Por supuesto se puede usar un with Control dentro de un Loop"
      ],
      "execution_count": null,
      "outputs": []
    },
    {
      "cell_type": "code",
      "metadata": {
        "id": "Y06i6gqOIEMg"
      },
      "source": [
        "# Dagger\n",
        "# Invierte un grupo de código\n",
        "# También aplica el deallocate dentro del whith si se crean qubits dentro\n",
        "\n",
        "quregD = engD.allocate_qureg(3)\n",
        "\n",
        "X | quregD[0]\n",
        "All(H) | quregD[::1]\n",
        "CNOT | (qureg[2], qureg[1])\n",
        "\n",
        "with Dagger(engD):\n",
        "  X | quregD[0]\n",
        "  All(H) | quregD[::1]\n",
        "  CNOT | (qureg[2], qureg[1])\n",
        "\n",
        "All(Measure) | quregD\n",
        "engD.flush()\n",
        "print(\"Measured {}\".format([int(q) for q in quregD]))\n",
        "\n",
        "del quregD\n"
      ],
      "execution_count": null,
      "outputs": []
    },
    {
      "cell_type": "code",
      "metadata": {
        "id": "97TxBk6GMHoH"
      },
      "source": [
        "# Compute y Uncompute\n",
        "# Funcionan conjuntamente habitualmente. Comienza un grupo de computación y lo deshace\n",
        "\n",
        "quregCU = engD.allocate_qureg(4)\n",
        "controlCU = engD.allocate_qubit()\n",
        "\n",
        "X | controlCU\n",
        "H | controlCU\n",
        "\n",
        "X | quregCU[0]\n",
        "\n",
        "with Compute(engD):\n",
        "  with Control(engD, quregCU[0]):\n",
        "    All(X) | quregCU[1:]\n",
        "  H | quregCU[0]\n",
        "  All(X) | quregCU\n",
        "\n",
        "with Control(engD, quregCU):\n",
        "  X | controlCU\n",
        "\n",
        "Uncompute(engD)\n",
        "\n",
        "All(Measure) | quregCU\n",
        "engD.flush()\n",
        "print(\"Measured {}\".format([int(q) for q in quregCU]))\n",
        "\n",
        "H | controlCU\n",
        "Measure | controlCU\n",
        "\n",
        "engD.flush()\n",
        "print(\"Measured {}\".format([int(q) for q in controlCU]))\n",
        "\n",
        "del quregCU\n",
        "del controlCU"
      ],
      "execution_count": null,
      "outputs": []
    },
    {
      "cell_type": "code",
      "metadata": {
        "id": "m-A2l6FwbsEw"
      },
      "source": [
        "del engD"
      ],
      "execution_count": null,
      "outputs": []
    },
    {
      "cell_type": "markdown",
      "metadata": {
        "id": "Al4qT6arNBAe"
      },
      "source": [
        "## El simulador: Extraer amplitudes y probabilidades, valores esperados\n",
        "El simulador mantiene toda la información de los estados, por tanto podemos acceder a ella (cosa que no podemos hacer en un dispositivo real)"
      ]
    },
    {
      "cell_type": "code",
      "metadata": {
        "id": "EhuNCfS8ceK-"
      },
      "source": [
        "# Obtener amplitudes\n",
        "from projectq.ops import Ry, QubitOperator\n",
        "from projectq.meta import Control\n",
        "import math\n",
        "\n",
        "engSim = MainEngine()\n",
        "quregSim = engSim.allocate_qureg(4)\n",
        "\n",
        "def complex_algorithm(eng, qreg):\n",
        "    All(H) | qreg\n",
        "    with Control(eng, qreg[0]):\n",
        "        All(X) | qreg[1:]\n",
        "    All(Ry(math.pi / 4)) | qreg[1:]\n",
        "    with Control(eng, qreg[-1]):\n",
        "        All(X) | qreg[1:-1]\n",
        "\n",
        "complex_algorithm(engSim, quregSim)\n",
        "\n",
        "engSim.flush()\n",
        "amplitude1 = engSim.backend.get_amplitude('0101', quregSim)\n",
        "amplitude2 = engSim.backend.get_amplitude('1010', quregSim)\n",
        "\n",
        "print('0101: ', amplitude1,'\\n1010: ', amplitude2)\n"
      ],
      "execution_count": null,
      "outputs": []
    },
    {
      "cell_type": "code",
      "metadata": {
        "id": "hoM1RC9lU_ul"
      },
      "source": [
        "# Obtener probabilidades\n",
        "prob1 = engSim.backend.get_probability('0101', quregSim)\n",
        "prob2 = engSim.backend.get_probability('1010', quregSim)\n",
        "\n",
        "print('0101: ', prob1,'\\n1010: ', prob2)"
      ],
      "execution_count": null,
      "outputs": []
    },
    {
      "cell_type": "code",
      "metadata": {
        "id": "wfYA5SR2WJpz"
      },
      "source": [
        "# Expectation Value\n",
        "# Obtiene el valor esperado de un operador con respecto al estadoactual de la función de onda\n",
        "\n",
        "hamiltoniano = QubitOperator('X0 Z1 Z2', 0.2)\n",
        "expectedvalue = engSim.backend.get_expectation_value(hamiltoniano, quregSim)\n",
        "print('Valor esperado: ', expectedvalue)"
      ],
      "execution_count": null,
      "outputs": []
    },
    {
      "cell_type": "code",
      "metadata": {
        "id": "HstHXlRsY4pJ"
      },
      "source": [
        "# Histograma (función añadida en la última versión)\n",
        "from projectq.libs.hist import histogram\n",
        "\n",
        "import matplotlib\n",
        "import matplotlib.pyplot as plt\n",
        "\n",
        "histogram(engSim.backend, quregSim)\n",
        "plt.show()"
      ],
      "execution_count": null,
      "outputs": []
    },
    {
      "cell_type": "code",
      "metadata": {
        "id": "LglL5cJgUyP0"
      },
      "source": [
        "All(Measure) | quregSim\n",
        "engSim.flush()\n",
        "\n",
        "del quregSim"
      ],
      "execution_count": null,
      "outputs": []
    }
  ]
}